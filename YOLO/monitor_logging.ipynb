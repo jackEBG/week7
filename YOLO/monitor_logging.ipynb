{
 "cells": [
  {
   "cell_type": "code",
   "execution_count": 1,
   "metadata": {},
   "outputs": [],
   "source": [
    "import logging\n",
    "\n",
    "image_name=r'C:\\Users\\Admin.DESKTOP-M4R2VLU\\week7\\images'\n",
    "# Configure logging\n",
    "logging.basicConfig(filename='detection.log', level=logging.INFO)\n",
    "\n",
    "# Log the start of the process\n",
    "logging.info('Starting object detection process...')\n",
    "\n",
    "try:\n",
    "    # Your detection code here\n",
    "    logging.info('Detection successful for image: %s', image_name)\n",
    "except Exception as e:\n",
    "    logging.error('Error occurred: %s', str(e))"
   ]
  }
 ],
 "metadata": {
  "kernelspec": {
   "display_name": "myven",
   "language": "python",
   "name": "python3"
  },
  "language_info": {
   "codemirror_mode": {
    "name": "ipython",
    "version": 3
   },
   "file_extension": ".py",
   "mimetype": "text/x-python",
   "name": "python",
   "nbconvert_exporter": "python",
   "pygments_lexer": "ipython3",
   "version": "3.10.8"
  }
 },
 "nbformat": 4,
 "nbformat_minor": 2
}
